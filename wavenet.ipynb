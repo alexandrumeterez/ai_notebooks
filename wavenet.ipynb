{
  "nbformat": 4,
  "nbformat_minor": 0,
  "metadata": {
    "colab": {
      "name": "wavenet.ipynb",
      "provenance": [],
      "authorship_tag": "ABX9TyOXd1mT3ylZTliYxOlUsBEp",
      "include_colab_link": true
    },
    "kernelspec": {
      "name": "python3",
      "display_name": "Python 3"
    },
    "language_info": {
      "name": "python"
    }
  },
  "cells": [
    {
      "cell_type": "markdown",
      "metadata": {
        "id": "view-in-github",
        "colab_type": "text"
      },
      "source": [
        "<a href=\"https://colab.research.google.com/github/alexandrumeterez/ai_notebooks/blob/master/wavenet.ipynb\" target=\"_parent\"><img src=\"https://colab.research.google.com/assets/colab-badge.svg\" alt=\"Open In Colab\"/></a>"
      ]
    },
    {
      "cell_type": "code",
      "metadata": {
        "id": "aNrAm1CA_uec"
      },
      "source": [
        "import pandas as pd\n",
        "import numpy as np\n",
        "import torch\n",
        "import torch.nn as nn\n",
        "import torch.optim as optim\n",
        "import random\n",
        "import time\n",
        "import math\n",
        "from torch.utils.data import Dataset, DataLoader\n",
        "from torchvision import transforms\n",
        "import matplotlib.pyplot as plt\n",
        "from torch.nn.utils.rnn import pad_sequence\n",
        "import torch.nn.functional as F\n",
        "%matplotlib inline"
      ],
      "execution_count": 1,
      "outputs": []
    },
    {
      "cell_type": "code",
      "metadata": {
        "id": "f8EcaVH9_0z3"
      },
      "source": [
        "class CausalConv1d(nn.Module):\n",
        "    def __init__(self, in_channels, out_channels, kernel_size, dilation=1, **kwargs):\n",
        "        super().__init__()\n",
        "        self.pad = (kernel_size - 1) * dilation\n",
        "        self.conv = nn.Conv1d(in_channels, out_channels, kernel_size, padding=self.pad, dilation=dilation, **kwargs)\n",
        "    \n",
        "    def forward(self, x):\n",
        "        x = self.conv(x)\n",
        "        return x[:, :, :-self.conv.padding[0]]\n",
        "\n",
        "class ResidualBlock(nn.Module):\n",
        "    def __init__(self, residual_channels, skip_channels, dilation):\n",
        "        super().__init__()\n",
        "        self.conv = CausalConv1d(residual_channels, residual_channels, 2, dilation=dilation)\n",
        "        self.conv_residual = nn.Conv1d(residual_channels, residual_channels, 1)\n",
        "        self.conv_skip = nn.Conv1d(residual_channels, skip_channels, 1)\n",
        "\n",
        "        self.gate_tanh = nn.Tanh()\n",
        "        self.gate_sigmoid = nn.Sigmoid()\n",
        "\n",
        "    def forward(self, x, skip_size):\n",
        "        output = self.conv(x)\n",
        "\n",
        "        gated_tanh = self.gate_tanh(output)\n",
        "        gated_sigmoid = self.gate_sigmoid(output)\n",
        "        gated = gated_tanh * gated_sigmoid\n",
        "\n",
        "        output = self.conv_residual(gated)\n",
        "        input_ = x[:, :, -output.size(2):]\n",
        "        output += input_\n",
        "\n",
        "        # Skip connection\n",
        "        skip = self.conv_skip(gated)\n",
        "        skip = skip[:, :, -skip_size:]\n",
        "\n",
        "        return output, skip\n",
        "\n",
        "\n",
        "\n",
        "class DensNet(torch.nn.Module):\n",
        "    def __init__(self, channels):\n",
        "        \"\"\"\n",
        "        The last network of WaveNet\n",
        "        :param channels: number of channels for input and output\n",
        "        :return:\n",
        "        \"\"\"\n",
        "        super(DensNet, self).__init__()\n",
        "\n",
        "        self.conv1 = torch.nn.Conv1d(channels, channels, 1)\n",
        "        self.conv2 = torch.nn.Conv1d(channels, 1, 1)\n",
        "\n",
        "        self.relu = torch.nn.ReLU()\n",
        "\n",
        "    def forward(self, x):\n",
        "        output = self.relu(x)\n",
        "        output = self.conv1(output)\n",
        "        output = self.relu(output)\n",
        "        output = self.conv2(output)\n",
        "\n",
        "\n",
        "        return output\n",
        "\n",
        "class WaveNet(nn.Module):\n",
        "    def __init__(self, n_dilations, n_residuals, in_channels, res_channels):\n",
        "        super().__init__()\n",
        "        self.causal = CausalConv1d(in_channels, res_channels, 2, 1)\n",
        "        self.residual_blocks = []\n",
        "        self.densenet = DensNet(9)\n",
        "        for residual_id in range(n_residuals):\n",
        "            for dilation_id in range(1, n_dilations):\n",
        "                dilation = 2 ** dilation_id\n",
        "                res_block = ResidualBlock(res_channels, in_channels, dilation)\n",
        "                self.residual_blocks.append(res_block)\n",
        "\n",
        "    def forward(self, x):\n",
        "        output = self.causal(x)\n",
        "\n",
        "        skip_connections = []\n",
        "\n",
        "        for block in self.residual_blocks:\n",
        "            output, skip = block(output, 0)\n",
        "            skip_connections.append(skip)\n",
        "        \n",
        "        output = torch.sum(torch.stack(skip_connections), dim=0)\n",
        "        return self.densenet(output)\n"
      ],
      "execution_count": 140,
      "outputs": []
    },
    {
      "cell_type": "code",
      "metadata": {
        "id": "kZvhLfD4HbVt"
      },
      "source": [
        "model = WaveNet(5, 10, 9, 3)\n",
        "x = torch.randn(33,9,17) #batchsize, channels, timestep\n",
        "# b t c = 33 17 9 ----> 33 9 17"
      ],
      "execution_count": 141,
      "outputs": []
    },
    {
      "cell_type": "code",
      "metadata": {
        "colab": {
          "base_uri": "https://localhost:8080/"
        },
        "id": "zpdeg9v8KHee",
        "outputId": "2095a830-e585-47d5-d35b-a2588f47ab9a"
      },
      "source": [
        "output = model(x)\n",
        "output.shape"
      ],
      "execution_count": 142,
      "outputs": [
        {
          "output_type": "execute_result",
          "data": {
            "text/plain": [
              "torch.Size([33, 1, 17])"
            ]
          },
          "metadata": {
            "tags": []
          },
          "execution_count": 142
        }
      ]
    },
    {
      "cell_type": "code",
      "metadata": {
        "colab": {
          "base_uri": "https://localhost:8080/"
        },
        "id": "yiOvtPNXKzRO",
        "outputId": "349cc428-cb96-4720-f8a1-f2a476587708"
      },
      "source": [
        "sc.shape"
      ],
      "execution_count": 95,
      "outputs": [
        {
          "output_type": "execute_result",
          "data": {
            "text/plain": [
              "torch.Size([40, 1, 9, 1])"
            ]
          },
          "metadata": {
            "tags": []
          },
          "execution_count": 95
        }
      ]
    },
    {
      "cell_type": "code",
      "metadata": {
        "id": "Kqf865GBLYrn"
      },
      "source": [
        ""
      ],
      "execution_count": null,
      "outputs": []
    }
  ]
}